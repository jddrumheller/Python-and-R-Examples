{
 "cells": [
  {
   "cell_type": "markdown",
   "id": "colored-eight",
   "metadata": {},
   "source": [
    "## Notebook for Calculating Sample Size\n",
    "\n",
    "This notebook is meant to draft some of the methods to calculate sample size based on Monte-Carlo type simulations."
   ]
  },
  {
   "cell_type": "markdown",
   "id": "monetary-chart",
   "metadata": {},
   "source": [
    "Importing the necessary libraries:"
   ]
  },
  {
   "cell_type": "code",
   "execution_count": 54,
   "id": "legal-cardiff",
   "metadata": {},
   "outputs": [],
   "source": [
    "import math\n",
    "import numpy as np\n",
    "from scipy.stats import norm, t, binom\n",
    "import pandas as pd"
   ]
  },
  {
   "cell_type": "markdown",
   "id": "alike-split",
   "metadata": {},
   "source": [
    "### TEST I: Z-test for Comparing a Mean to a Known Value e.g. $\\mu = \\hat\\mu$:\n",
    "\n",
    "Compare this method to an online sample-size calculator availabel here: https://www.stat.ubc.ca/~rollin/stats/ssize/n1.html\n"
   ]
  },
  {
   "cell_type": "code",
   "execution_count": 2,
   "id": "straight-appliance",
   "metadata": {},
   "outputs": [],
   "source": [
    "def zSampleSize(muHyp, sigma, test = 'equal', mu = 0, numSim = 2000, maxN = 500, alpha = 0.05, power = 0.8):\n",
    "    \n",
    "    \"\"\" Compute the sample size for a test to a known mean parameter\n",
    "    muHyp: the hypothesized mean parameter -user must supply\n",
    "    sigma: a known population variance -user must supply\n",
    "    \n",
    "    test: type of test on parameter eg. one-sided or equal\n",
    "    mu: the population mean parameter with default 0\n",
    "    numSim: the number of simulations to be used with default 2000\n",
    "    maxN: maxium number of samples with default 500\n",
    "    alpha: the prescribed test size with default value 0.05\n",
    "    power: the prescribed power of the test with default value 0.8\n",
    "    \n",
    "    \"\"\"\n",
    "    \n",
    "    ## check for type of test and get corresponding critical value\n",
    "    \n",
    "    if test == 'equal':\n",
    "        criticalValue =  np.abs(norm.ppf(alpha/2))\n",
    "    else:\n",
    "        criticalValue = norm.ppf(1-alpha)\n",
    "        \n",
    "    \n",
    "    ## loop over the 'sample size'\n",
    "    for i in range(2,maxN):\n",
    "        \n",
    "        ## counter to determine the number of times the test statistic exceeds the critical value\n",
    "        rejectedCounter = 0\n",
    "        \n",
    "        ## create simulations based on user input\n",
    "        for j in range(numSim):\n",
    "            \n",
    "            ## simulate a normal random variable and compute z-statistic\n",
    "            simulated = np.random.normal(muHyp, sigma, i)\n",
    "            zStatistic = (simulated.mean() - mu) / (sigma / np.sqrt(i))\n",
    "            \n",
    "            ## check if the statistic exceeds the specified critical value\n",
    "            if  test == 'equal':                \n",
    "                if np.abs(zStatistic) > criticalValue:\n",
    "                    rejectedCounter += 1\n",
    "            else:\n",
    "                if np.sign(muHyp - mu) > 0:\n",
    "                    if zStatistic > criticalValue:\n",
    "                        rejectedCounter += 1\n",
    "                else:\n",
    "                    if zStatistic < -criticalValue:\n",
    "                        rejectedCounter += 1\n",
    "\n",
    "        ## check if we've achived sufficent power\n",
    "        if rejectedCounter/numSim >= power:\n",
    "            return(i)\n",
    "            break\n",
    " "
   ]
  },
  {
   "cell_type": "code",
   "execution_count": 4,
   "id": "naked-element",
   "metadata": {},
   "outputs": [
    {
     "data": {
      "text/plain": [
       "69"
      ]
     },
     "execution_count": 4,
     "metadata": {},
     "output_type": "execute_result"
    }
   ],
   "source": [
    "zSampleSize(2,3,'equal',3)"
   ]
  },
  {
   "cell_type": "markdown",
   "id": "advisory-value",
   "metadata": {},
   "source": [
    "### Test II: T-Test Comparing Two Independent Samples $\\mu_1 \\mbox{vs} \\mu_2$\n",
    "\n",
    "Here we assume that the sample sizes from the two samples is the same. We specify the population variance and assume both samples have the same $\\sigma$, but it will be estimated from the sample invoking the indpendent samples t-test\n",
    "\n",
    "https://www.stat.ubc.ca/~rollin/stats/ssize/n2.html"
   ]
  },
  {
   "cell_type": "code",
   "execution_count": 5,
   "id": "virgin-despite",
   "metadata": {},
   "outputs": [],
   "source": [
    "def tSampleSize(mu1, mu2, sigma, test = 'equal', numSim = 2000, maxN = 500, alpha = 0.05, power = 0.8):\n",
    "    \"\"\" Compute the sample size for a indpendent sample t-test\n",
    "    mu1: the hypothesized mean parameter for group 1 -user must supply\n",
    "    mu2: the hypothesized mean parameter for group 2 -user must supply\n",
    "    sigma: a known population variance -user must supply\n",
    "    \n",
    "    test: type of test on parameter eg. one-sided or equal\n",
    "    mu: the population mean parameter with default 0\n",
    "    numSim: the number of simulations to be used with default 2000\n",
    "    maxN: maxium number of samples with default 500\n",
    "    alpha: the prescribed test size with default value 0.05\n",
    "    power: the prescribed power of the test with default value 0.8 \n",
    "    \"\"\"\n",
    "    \n",
    "    ## loop over the 'sample size'\n",
    "    for i in range(3, maxN):\n",
    "        \n",
    "        ## counter to determine the number of times the test statistic exceeds the critical value\n",
    "        rejectedCounter = 0\n",
    "        \n",
    "            ## check for type of test and get corresponding critical value\n",
    "    \n",
    "        if test == 'equal':\n",
    "            criticalValue =  np.abs(t.ppf(alpha/2, 2*i - 2))\n",
    "        else:\n",
    "            criticalValue = np.abs(t.ppf(alpha, 2*i - 2))\n",
    "        \n",
    "        ## create simulations based on user input\n",
    "        for j in range(numSim):\n",
    "            \n",
    "            ## simulate from two normal distributions\n",
    "            simulated1 = np.random.normal(mu1, sigma, i)\n",
    "            simulated2 = np.random.normal(mu2, sigma, i)\n",
    "            \n",
    "            ## calculate summaries for test statistic\n",
    "            muHat1 = simulated1.mean()\n",
    "            muHat2 = simulated2.mean()\n",
    "            S1= simulated1.var()\n",
    "            S2 = simulated2.var()\n",
    "            varPooled = (S1 + S2)/2\n",
    "            \n",
    "            ## calculate test statistic\n",
    "            tStatistic = (muHat1 - muHat2) / np.sqrt(varPooled * (2/i))\n",
    "            \n",
    "            ## check if the t-statistic exceeds the critival value and increment counter\n",
    "            if  test == 'equal':                \n",
    "                if np.abs(tStatistic) > criticalValue:\n",
    "                    rejectedCounter += 1\n",
    "            else:\n",
    "                if np.sign(mu1 - mu2) > 0:\n",
    "                    if tStatistic > criticalValue:\n",
    "                        rejectedCounter += 1\n",
    "                else:\n",
    "                    if tStatistic < -criticalValue:\n",
    "                        rejectedCounter += 1\n",
    "                        \n",
    "        ## check if we've achived sufficent power\n",
    "        if rejectedCounter/numSim > power:\n",
    "            return(i)\n",
    "            break\n",
    "    \n",
    "    "
   ]
  },
  {
   "cell_type": "code",
   "execution_count": 6,
   "id": "infrared-thesaurus",
   "metadata": {},
   "outputs": [
    {
     "data": {
      "text/plain": [
       "51"
      ]
     },
     "execution_count": 6,
     "metadata": {},
     "output_type": "execute_result"
    }
   ],
   "source": [
    "tSampleSize(2, 3, 2, 'one-sided')"
   ]
  },
  {
   "cell_type": "markdown",
   "id": "acting-functionality",
   "metadata": {},
   "source": [
    "### Test III: Comparing a Proportion to a Known Value $p = \\hat p$\n",
    "\n",
    "We test a difference in proportion from a hypothesized proprtion from a known propoportion. We simulate not only the number of times we achive the apporpriate power but also simulate sampling from and infinite population to compute the sample proportion. The continuity correction is applied to the z-test statistic. \n",
    "\n",
    "https://www.stat.ubc.ca/~rollin/stats/ssize/b1.html"
   ]
  },
  {
   "cell_type": "code",
   "execution_count": 78,
   "id": "overall-galaxy",
   "metadata": {},
   "outputs": [],
   "source": [
    "def PropSampleSize(pHyp, pKnw, test = 'equal', numSim = 2000, maxN = 500, alpha = 0.05, power = 0.8):\n",
    "    \n",
    "    \"\"\" Compute the sample size for a test to a known mean parameter\n",
    "    pHyp: the hypothesized proportion value -user must supply\n",
    "    pKnw: the population proportion parameter - user must supply\n",
    "    \n",
    "    test: type of test on parameter eg. one-sided or equal\n",
    "    numSim: the number of simulations to be used with default 2000\n",
    "    maxN: maxium number of samples with default 500\n",
    "    alpha: the prescribed test size with default value 0.05\n",
    "    power: the prescribed power of the test with default value 0.8\n",
    "    \n",
    "    \"\"\"\n",
    "    \n",
    "     ## check for type of test and get corresponding critical value\n",
    "    \n",
    "    if test == 'equal':\n",
    "        criticalValue =  np.abs(norm.ppf(alpha/2))\n",
    "    else:\n",
    "        criticalValue = norm.ppf(1-alpha)   \n",
    "    \n",
    "    ## loop over the 'sample size'\n",
    "    for i in range(2,maxN):\n",
    "        \n",
    "        ## counter to determine the number of times the test statistic exceeds the critical value\n",
    "        rejectedCounter = 0\n",
    "        \n",
    "        ## create simulations based on user input\n",
    "        for j in range(numSim):\n",
    "            \n",
    "            ## simulate a normal random variable and compute z-statistic\n",
    "            simulated = np.random.binomial(1, pHyp, i)\n",
    "            phat = simulated.mean()\n",
    "            \n",
    "            ## get value for continuity correction\n",
    "            \n",
    "            if pKnw > phat:\n",
    "                c = 1 / (2*i)\n",
    "            elif pKnw < phat: \n",
    "                c = - 1 / (2*i)\n",
    "            elif np.abs(pKnw - phat) < 1 / (2*i):\n",
    "                c = 0\n",
    "            \n",
    "            zStatistic = ((phat - pKnw) + c) / np.sqrt((pKnw * (1 - pKnw)) / i)\n",
    "            \n",
    "            ## check if the statistic exceeds the specified critical value\n",
    "            if  test == 'equal':                \n",
    "                if np.abs(zStatistic) > criticalValue:\n",
    "                    rejectedCounter += 1\n",
    "            else:\n",
    "                if np.sign(phat - pKnw) > 0:\n",
    "                    if zStatistic > criticalValue:\n",
    "                        rejectedCounter += 1\n",
    "                else:\n",
    "                    if zStatistic < -criticalValue:\n",
    "                        rejectedCounter += 1\n",
    "\n",
    "        ## check if we've achived sufficent power\n",
    "        if rejectedCounter/numSim >= power:\n",
    "            return(i)\n",
    "            break\n",
    " "
   ]
  },
  {
   "cell_type": "code",
   "execution_count": 88,
   "id": "organic-rating",
   "metadata": {},
   "outputs": [
    {
     "data": {
      "text/plain": [
       "30"
      ]
     },
     "execution_count": 88,
     "metadata": {},
     "output_type": "execute_result"
    }
   ],
   "source": [
    "PropSampleSize(0.25, 0.5)"
   ]
  },
  {
   "cell_type": "markdown",
   "id": "stable-commission",
   "metadata": {},
   "source": [
    "### Test IIV: Comparing two Proportion $\\hat p_1 = \\hat p_2$\n",
    "\n",
    "We test a difference in proportions between two sampled proportions. We simulate not only the number of times we achive the apporpriate power but also simulate sampling from and infinite population to compute the sample proportions. The continuity correction is applied to the z-test statistic. \n",
    "\n",
    "https://www.stat.ubc.ca/~rollin/stats/ssize/b2.html"
   ]
  },
  {
   "cell_type": "code",
   "execution_count": 129,
   "id": "abstract-sarah",
   "metadata": {},
   "outputs": [],
   "source": [
    "def TwoPropSampleSize(p1, p2, test = 'equal', numSim = 2000, maxN = 500, alpha = 0.05, power = 0.8): \n",
    "    \"\"\" Compute the sample size for a test to a known mean parameter\n",
    "    pHyp: the hypothesized proportion value -user must supply\n",
    "    pKnw: the population proportion parameter - user must supply\n",
    "    \n",
    "    test: type of test on parameter eg. one-sided or equal\n",
    "    numSim: the number of simulations to be used with default 2000\n",
    "    maxN: maxium number of samples with default 500\n",
    "    alpha: the prescribed test size with default value 0.05\n",
    "    power: the prescribed power of the test with default value 0.8\n",
    "    \n",
    "    \"\"\"\n",
    "    \n",
    "     ## check for type of test and get corresponding critical value\n",
    "    \n",
    "    if test == 'equal':\n",
    "        criticalValue =  np.abs(norm.ppf(alpha/2))\n",
    "    else:\n",
    "        criticalValue = np.abs(norm.ppf(alpha))   \n",
    "    \n",
    "    ## loop over the 'sample size'\n",
    "    for i in range(2,maxN):\n",
    "        \n",
    "        ## counter to determine the number of times the test statistic exceeds the critical value\n",
    "        rejectedCounter = 0\n",
    "        \n",
    "        ## create simulations based on user input\n",
    "        for j in range(numSim):\n",
    "            \n",
    "            ## simulate a normal random variable and compute z-statistic\n",
    "            simulated1 = np.random.binomial(1, p1, i)\n",
    "            simulated2 = np.random.binomial(1, p2, i)\n",
    "            phat1 = simulated1.mean()\n",
    "            phat2 = simulated2.mean()\n",
    "            \n",
    "            ## helper terms\n",
    "            pnet = np.concatenate([simulated1, simulated2]).mean() ####(simulated1.sum() + simulated2.sum())/ (2*i)\n",
    "            denom = np.sqrt(np.abs(pnet*(1-pnet)*2/i))\n",
    "            \n",
    "            zStatistic = (phat1 - phat2)  / denom\n",
    "            \n",
    "            ## check if the statistic exceeds the specified critical value\n",
    "            if  test == 'equal':                \n",
    "                if np.abs(zStatistic) > criticalValue:\n",
    "                    rejectedCounter += 1\n",
    "            else:\n",
    "                if np.sign(phat - pKnw) > 0:\n",
    "                    if zStatistic > criticalValue:\n",
    "                        rejectedCounter += 1\n",
    "                else:\n",
    "                    if zStatistic < -criticalValue:\n",
    "                        rejectedCounter += 1\n",
    "\n",
    "        ## check if we've achived sufficent power\n",
    "        if rejectedCounter/numSim >= power:\n",
    "            return(i)\n",
    "            break\n",
    " "
   ]
  },
  {
   "cell_type": "code",
   "execution_count": 130,
   "id": "killing-microphone",
   "metadata": {},
   "outputs": [
    {
     "name": "stderr",
     "output_type": "stream",
     "text": [
      "C:\\Users\\jddru\\Anaconda3\\lib\\site-packages\\ipykernel_launcher.py:40: RuntimeWarning: invalid value encountered in double_scalars\n"
     ]
    },
    {
     "data": {
      "text/plain": [
       "58"
      ]
     },
     "execution_count": 130,
     "metadata": {},
     "output_type": "execute_result"
    }
   ],
   "source": [
    "TwoPropSampleSize(0.5, 0.75)"
   ]
  },
  {
   "cell_type": "code",
   "execution_count": 124,
   "id": "abandoned-geneva",
   "metadata": {},
   "outputs": [],
   "source": [
    "simulated1 = np.random.binomial(1, 0.5, 5)\n",
    "simulated2 = np.random.binomial(1, 0.5, 5)"
   ]
  },
  {
   "cell_type": "code",
   "execution_count": 125,
   "id": "animated-seeking",
   "metadata": {},
   "outputs": [
    {
     "data": {
      "text/plain": [
       "0.5"
      ]
     },
     "execution_count": 125,
     "metadata": {},
     "output_type": "execute_result"
    }
   ],
   "source": [
    "np.concatenate([simulated1, simulated2]).mean()"
   ]
  },
  {
   "cell_type": "code",
   "execution_count": 116,
   "id": "overall-arkansas",
   "metadata": {},
   "outputs": [
    {
     "data": {
      "text/plain": [
       "numpy.ndarray"
      ]
     },
     "execution_count": 116,
     "metadata": {},
     "output_type": "execute_result"
    }
   ],
   "source": [
    "type(simulated1)"
   ]
  },
  {
   "cell_type": "code",
   "execution_count": null,
   "id": "proprietary-academy",
   "metadata": {},
   "outputs": [],
   "source": []
  }
 ],
 "metadata": {
  "kernelspec": {
   "display_name": "Python 3",
   "language": "python",
   "name": "python3"
  },
  "language_info": {
   "codemirror_mode": {
    "name": "ipython",
    "version": 3
   },
   "file_extension": ".py",
   "mimetype": "text/x-python",
   "name": "python",
   "nbconvert_exporter": "python",
   "pygments_lexer": "ipython3",
   "version": "3.8.8"
  }
 },
 "nbformat": 4,
 "nbformat_minor": 5
}
